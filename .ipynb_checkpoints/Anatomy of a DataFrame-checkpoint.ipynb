{
 "cells": [
  {
   "cell_type": "markdown",
   "metadata": {},
   "source": [
    "# Anatomy of a DataFrame"
   ]
  },
  {
   "cell_type": "code",
   "execution_count": null,
   "metadata": {},
   "outputs": [],
   "source": [
    "import pandas as pd"
   ]
  },
  {
   "cell_type": "code",
   "execution_count": null,
   "metadata": {},
   "outputs": [],
   "source": [
    "nashville_art = pd.read_csv('./Art_in_Public_Places.csv')\n",
    "nashville_art.head()"
   ]
  },
  {
   "cell_type": "markdown",
   "metadata": {},
   "source": [
    "---\n",
    "\n",
    "## What makes up a DataFrame?\n",
    "\n",
    "First and foremost..\n",
    "DataFrames are like SQL tables.\n",
    "\n",
    "You have:\n",
    "* Columns\n",
    "* Rows\n",
    "* And data points\n",
    "\n",
    "![dataframe 1](./assets/dataframe_anatomy_1.png)"
   ]
  },
  {
   "cell_type": "markdown",
   "metadata": {},
   "source": [
    "---\n",
    "\n",
    "How many rows and columns are in our `nashville_art` DataFrame?"
   ]
  },
  {
   "cell_type": "code",
   "execution_count": null,
   "metadata": {},
   "outputs": [],
   "source": [
    "n_rows, n_columns = nashville_art.shape\n",
    "print(f'There are {n_rows} rows and {n_columns} columns in the nashville_art DataFrame.')"
   ]
  },
  {
   "cell_type": "markdown",
   "metadata": {},
   "source": [
    "What are the columns in my DataFrame?"
   ]
  },
  {
   "cell_type": "code",
   "execution_count": null,
   "metadata": {},
   "outputs": [],
   "source": [
    "print(f'Column names: {nashville_art.columns.values}')"
   ]
  },
  {
   "cell_type": "markdown",
   "metadata": {},
   "source": [
    "---\n",
    "\n",
    "Of course, like a SQL table, the columns can have different types. \n",
    "The general data types are:\n",
    "\n",
    "* Integer\n",
    "* Float\n",
    "* Boolean\n",
    "* Text\n",
    "\n",
    "There are more complex types than this of course.. \n",
    "But this is what we'll focus on.\n",
    "\n",
    "What are the data types in the `nashville_art` DataFrame?"
   ]
  },
  {
   "cell_type": "code",
   "execution_count": null,
   "metadata": {},
   "outputs": [],
   "source": [
    "nashville_art.dtypes"
   ]
  },
  {
   "cell_type": "markdown",
   "metadata": {},
   "source": [
    "Ok.. \n",
    "What are the `object` types?\n",
    "\n",
    "In this case.. Text."
   ]
  },
  {
   "cell_type": "markdown",
   "metadata": {},
   "source": [
    "---\n",
    "\n",
    "## Accessing columns\n",
    "\n",
    "Generally, you want to work with your data. \n",
    "To do this, you will need to know how to handle columns!!\n",
    "\n",
    "You can select columns using brackets. \n",
    "Syntax is like: \n",
    "```python\n",
    "df [ [ 'columns1', 'column2', ... ] ]\n",
    "```"
   ]
  },
  {
   "cell_type": "markdown",
   "metadata": {},
   "source": [
    "Go ahead and select the \"Title\" and \"Location\" columns."
   ]
  },
  {
   "cell_type": "code",
   "execution_count": null,
   "metadata": {},
   "outputs": [],
   "source": [
    "# code here!"
   ]
  },
  {
   "cell_type": "markdown",
   "metadata": {},
   "source": [
    "---\n",
    "\n",
    "## Accessing a single column\n",
    "\n",
    "You can also work with a single column at a time. \n",
    "This will allow you to perform specific operations around a particular datatype, vs the entire dataframe.\n",
    "\n",
    "To do this, use a single set of brackets. \n",
    "_But_ , remember to only use a single column!\n",
    "Syntax is like:\n",
    "```python\n",
    "df[ 'column' ]\n",
    "```"
   ]
  },
  {
   "cell_type": "code",
   "execution_count": null,
   "metadata": {},
   "outputs": [],
   "source": [
    "# code here!"
   ]
  },
  {
   "cell_type": "markdown",
   "metadata": {},
   "source": [
    "What is different here?? \n",
    "\n",
    "* 2 sets of brackets - Returned a **_DataFrame_**\n",
    "* 1 set of brackets - Returned a **_Series_**"
   ]
  },
  {
   "cell_type": "markdown",
   "metadata": {},
   "source": [
    "---\n",
    "\n",
    "### What is a Series object?\n",
    "Think of a Series as a column.\n",
    "Series and DataFrames are different. \n",
    "They behave differently, represent different things, and have different methods associated with them (though some share the same name).\n",
    "\n",
    "Series is not bad, just different. \n",
    "\n",
    "You can find documentation for **_DataFrame_** objects [here](https://pandas.pydata.org/pandas-docs/stable/reference/api/pandas.DataFrame.html).  \n",
    "You can find documentation for **_Series_** objects [here](https://pandas.pydata.org/pandas-docs/stable/reference/series.html).  \n",
    "\n",
    "A DataFrame is able to reference an entire set of data or subset of the data in general terms, whereas a Series references a single column/row and is able to access type-specifiic functionality."
   ]
  },
  {
   "cell_type": "markdown",
   "metadata": {},
   "source": [
    "---\n",
    "\n",
    "## Getting Fancy\n",
    "\n",
    "Pandas gives you the option to select certain rows as well!\n",
    "Not just columns. \n",
    "The best way to do that is with the `.iloc` property.\n",
    "\n",
    "Remember slicing lists? Accessing single elements of a list.. Multiple elements in a list.. Etc.\n",
    "\n",
    "As a reminder.."
   ]
  },
  {
   "cell_type": "code",
   "execution_count": null,
   "metadata": {},
   "outputs": [],
   "source": [
    "my_list = [1, 2, 3, 4, 5, 6]\n",
    "\n",
    "# first element\n",
    "print('First element is: ', my_list[0])\n",
    "\n",
    "# last element\n",
    "print('Last element is: ', my_list[-1])\n",
    "\n",
    "# first 3 elements\n",
    "print('First 3 elements are: ', my_list[:3])\n",
    "\n",
    "# last 3 elements\n",
    "print('Last 3 elements are: ', my_list[-3:])\n",
    "\n",
    "# middle 2 elements\n",
    "print('Middle 2 elements are: ', my_list[3:5])"
   ]
  },
  {
   "cell_type": "markdown",
   "metadata": {},
   "source": [
    "You are able to access/slice DataFrames and Series in a similar way.\n",
    "\n",
    "Let's do the same thing for our DataFrame to **_access the rows_** we're interested in.\n",
    "Like we mentioned earlier, we need a special property of the DataFrame called `.iloc`.\n",
    "\n",
    "Example: \n",
    "```python\n",
    "df.iloc[0]\n",
    "df.iloc[-1]\n",
    "df.iloc[0:3]\n",
    "df.iloc[-3:0]\n",
    "df.iloc[3:5]\n",
    "```"
   ]
  },
  {
   "cell_type": "code",
   "execution_count": null,
   "metadata": {},
   "outputs": [],
   "source": [
    "# Accessing the first element (we'll do the first one for you)\n",
    "nashville_art.loc[0]"
   ]
  },
  {
   "cell_type": "code",
   "execution_count": null,
   "metadata": {},
   "outputs": [],
   "source": [
    "# Accessing the last element\n"
   ]
  },
  {
   "cell_type": "code",
   "execution_count": null,
   "metadata": {},
   "outputs": [],
   "source": [
    "# Accessing first 3 elements\n"
   ]
  },
  {
   "cell_type": "code",
   "execution_count": null,
   "metadata": {},
   "outputs": [],
   "source": [
    "# Accessing last 3 elements\n"
   ]
  },
  {
   "cell_type": "code",
   "execution_count": null,
   "metadata": {
    "scrolled": true
   },
   "outputs": [],
   "source": [
    "# Accessing third and fourth elements\n"
   ]
  },
  {
   "cell_type": "markdown",
   "metadata": {},
   "source": [
    "In these examples, different types were returned. \n",
    "Try to figure out what the types were, and when they showed up."
   ]
  },
  {
   "cell_type": "markdown",
   "metadata": {},
   "source": [
    "---\n",
    "\n",
    "## Getting Fancier\n",
    "\n",
    "But what if you want to filter **BOTH** the rows and the columns?? \n",
    "Use can still use `.iloc` for that.\n",
    "\n",
    "### Slice By Row and Column Indices\n",
    "\n",
    "Let's blend rows and column slicing together into a single command.\n",
    "\n",
    "Example: \n",
    "```\n",
    "df.iloc[ <row_indexer> , <column_indexer> ]\n",
    "df.iloc[ 0 , 0 ]\n",
    "df.iloc[ -1 , -1 ]\n",
    "df.iloc[ :3 , :3 ]\n",
    "df.iloc[ -3: , -3: ]\n",
    "df.iloc[ 3:5 , 3:5 ]\n",
    "\n",
    "# or a mix!!\n",
    "df.iloc[0, 3:5]\n",
    "df.iloc[:3, -3:]\n",
    "df.iloc[:, :3]\n",
    "df.iloc[-3:, :]\n",
    "```\n",
    "\n",
    "Just like we've been slicing the rows with `iloc`, put a comma right after your slicer and repeat it.\n",
    "\n",
    "Apply all the example iloc operations to your DataFrame, and try to understand what data types are being returned by each operation."
   ]
  },
  {
   "cell_type": "code",
   "execution_count": null,
   "metadata": {},
   "outputs": [],
   "source": [
    "# Code all the things here!"
   ]
  },
  {
   "cell_type": "markdown",
   "metadata": {},
   "source": [
    "---\n",
    "\n",
    "## Bringing it back\n",
    "\n",
    "OKOK.\n",
    "Now we are frustrated because we hate thinking about numbers.\n",
    "We name our columns for a reason, right? \n",
    "Shouldn't we be able to slice-n-dice with the names too?\n",
    "\n",
    "Why, of course you should.\n",
    "And you can!\n",
    "You can do _anything_!!\n",
    "\n",
    "You just can't do everything with `.iloc`. \n",
    "`.iloc` does have a best friend that knows what to do!!\n",
    "\n",
    "Introducing.. `.loc`!!!\n",
    "\n",
    "Example: \n",
    "```python\n",
    "df.loc[ [ 0:5 ] ]\n",
    "```"
   ]
  },
  {
   "cell_type": "code",
   "execution_count": null,
   "metadata": {
    "scrolled": false
   },
   "outputs": [],
   "source": [
    "nashville_art.loc[0:5]"
   ]
  },
  {
   "cell_type": "code",
   "execution_count": null,
   "metadata": {},
   "outputs": [],
   "source": [
    "nashville_art.loc[0]"
   ]
  },
  {
   "cell_type": "markdown",
   "metadata": {},
   "source": [
    "---\n",
    "\n",
    "## Why didn't it change?!?!\n",
    "\n",
    "![dataframe 1](./assets/dataframe_anatomy_2.png)\n",
    "\n",
    "Well first, we need to understand that there are **2 parts** to the columns and rows. \n",
    "Up until now, we have been working with the _index_ of either.\n",
    "But now, we need to think about the names/labels.\n",
    "\n",
    "Everything you don't see is the index.\n",
    "This would call for `.iloc`.\n",
    "\n",
    "Everything you see is a label. \n",
    "This calls for `.loc`."
   ]
  },
  {
   "cell_type": "code",
   "execution_count": null,
   "metadata": {},
   "outputs": [],
   "source": [
    "# boom!\n",
    "nashville_art.loc[0:5, 'Title':'Location']"
   ]
  },
  {
   "cell_type": "code",
   "execution_count": null,
   "metadata": {},
   "outputs": [],
   "source": [
    "nashville_art.loc[[1, 3, 5], ['Title', 'Location']]"
   ]
  },
  {
   "cell_type": "code",
   "execution_count": null,
   "metadata": {},
   "outputs": [],
   "source": [
    "# query the first 2 rows with just the title"
   ]
  },
  {
   "cell_type": "code",
   "execution_count": null,
   "metadata": {},
   "outputs": [],
   "source": [
    "# query the first rows with the title and the location only."
   ]
  },
  {
   "cell_type": "code",
   "execution_count": null,
   "metadata": {},
   "outputs": [],
   "source": [
    "# Using loc, get the 50th row with all the columns.|"
   ]
  },
  {
   "cell_type": "markdown",
   "metadata": {},
   "source": [
    "---\n",
    "\n",
    "## The Fanciest Of All!\n",
    "\n",
    "Finally, you can add clauses to your slicers.\n",
    "Just like a **WHERE** clause in SQL.\n",
    "This pairs up with `.loc` or `.iloc`!"
   ]
  },
  {
   "cell_type": "code",
   "execution_count": null,
   "metadata": {
    "scrolled": true
   },
   "outputs": [],
   "source": [
    "# Example\n",
    "nashville_art.loc[\n",
    "    nashville_art['Type'] == 'Mural'\n",
    "]"
   ]
  },
  {
   "cell_type": "code",
   "execution_count": null,
   "metadata": {},
   "outputs": [],
   "source": [
    "# Example\n",
    "nashville_art.loc[\n",
    "    (nashville_art['Type'] == 'Mural') & \n",
    "    (nashville_art['Medium'] == 'Paint'),\n",
    "    'Title':'Location'\n",
    "]"
   ]
  },
  {
   "cell_type": "markdown",
   "metadata": {},
   "source": [
    "---\n",
    "\n",
    "### A couple last notes\n",
    "\n",
    "Be sure to make use of the special operators when querying your dataframe.\n",
    "\n",
    "* `&` - and\n",
    "* `|` - or\n",
    "* `~` - not\n",
    "\n",
    "Also, **_PARENTHESIS MATTER_** when you are performing multiple conditions.\n",
    "Example: \n",
    "\n",
    "```python\n",
    "df.loc[ (df['column'] == 'foo') & (df['another_column'] != 'bar') , :]\n",
    "```\n",
    "\n",
    "Note the parenthesis around each one. "
   ]
  }
 ],
 "metadata": {
  "kernelspec": {
   "display_name": "Python 3",
   "language": "python",
   "name": "python3"
  },
  "language_info": {
   "codemirror_mode": {
    "name": "ipython",
    "version": 3
   },
   "file_extension": ".py",
   "mimetype": "text/x-python",
   "name": "python",
   "nbconvert_exporter": "python",
   "pygments_lexer": "ipython3",
   "version": "3.7.6"
  }
 },
 "nbformat": 4,
 "nbformat_minor": 4
}
